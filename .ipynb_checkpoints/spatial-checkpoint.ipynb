{
 "cells": [
  {
   "cell_type": "code",
   "execution_count": 1,
   "metadata": {},
   "outputs": [
    {
     "name": "stdout",
     "output_type": "stream",
     "text": [
      "\n",
      "## You are using the Python ARM Radar Toolkit (Py-ART), an open source\n",
      "## library for working with weather radar data. Py-ART is partly\n",
      "## supported by the U.S. Department of Energy as part of the Atmospheric\n",
      "## Radiation Measurement (ARM) Climate Research Facility, an Office of\n",
      "## Science user facility.\n",
      "##\n",
      "## If you use this software to prepare a publication, please cite:\n",
      "##\n",
      "##     JJ Helmus and SM Collis, JORS 2016, doi: 10.5334/jors.119\n",
      "\n"
     ]
    }
   ],
   "source": [
    "import pandas as pd\n",
    "import numpy as np\n",
    "import os\n",
    "import sys\n",
    "import datetime\n",
    "import time\n",
    "import math \n",
    "\n",
    "\n",
    "#from netCDF4 import Dataset, num2date\n",
    "import matplotlib.pyplot as plt\n",
    "from sklearn.ensemble import RandomForestRegressor,AdaBoostRegressor,GradientBoostingRegressor\n",
    "from sklearn.neural_network import MLPRegressor\n",
    "from sklearn.model_selection import GridSearchCV, train_test_split\n",
    "from sklearn.preprocessing import MinMaxScaler, StandardScaler, RobustScaler, MaxAbsScaler,Normalizer\n",
    "from sklearn.cluster import KMeans\n",
    "from sklearn.mixture import GaussianMixture\n",
    "from sklearn.metrics import adjusted_rand_score, r2_score\n",
    "\n",
    "\n",
    "import matplotlib.dates as mdates\n",
    "import matplotlib.colors\n",
    "import matplotlib.ticker as ticker\n",
    "\n",
    "import pyart\n",
    "\n",
    "import pytz\n",
    "# import shap\n",
    "import pickle\n",
    "import multiprocessing\n",
    "\n",
    "import cartopy.crs as ccrs\n",
    "\n",
    "from sklearn.decomposition import PCA, FastICA\n",
    "from sklearn.random_projection import GaussianRandomProjection\n",
    "from sklearn.metrics.pairwise import haversine_distances\n",
    "from math import radians\n",
    "\n",
    "\n",
    "RANDOM_STATE = 42\n",
    "\n",
    "import warnings\n",
    "warnings.filterwarnings(\"ignore\")"
   ]
  },
  {
   "cell_type": "markdown",
   "metadata": {},
   "source": [
    "# Perameters\n"
   ]
  },
  {
   "cell_type": "code",
   "execution_count": 2,
   "metadata": {},
   "outputs": [],
   "source": [
    "folder = 'spatial'\n",
    "node_id = '10004098'\n",
    "dir_out = '../figures/' + folder + '/'\n",
    "dir_data = '../data/'\n",
    "dir_NEXRAD = '/Volumes/Backup Plus/NEXRAD/data/'\n",
    "\n",
    "years = ['2019','2020'] ####\n",
    "months = ['1','2','3','4','5','6','7','8','9','10','11','12']\n",
    "days = np.array(range(1,31+1)).astype(str) #### np.array(range(1,31+1)).astype(str)\n",
    "days = list(days)\n",
    "\n",
    "hours = (np.array(range(0,24))).astype(str)\n",
    "hours = list(hours)\n",
    "\n",
    "bins = np.array(range(0,420+1)).astype(str)\n",
    "bins = list(bins)\n",
    "for i in range(len(bins)):\n",
    "    bins[i] = 'Spectrum[' + bins[i] + ']'\n",
    "\n",
    "wavelengths = np.array(range(360,780+1)).astype(str)\n",
    "for i in range(len(wavelengths)):\n",
    "    wavelengths[i] = wavelengths[i] + 'nm'\n",
    "wavelengths = list(wavelengths)"
   ]
  },
  {
   "cell_type": "markdown",
   "metadata": {},
   "source": [
    "## Read Data"
   ]
  },
  {
   "cell_type": "code",
   "execution_count": 84,
   "metadata": {},
   "outputs": [],
   "source": [
    "# if data has been preprocessed before, run this directly\n",
    "fn_data = dir_data + 'driving_' + node_id + '.csv'\n",
    "df = pd.read_csv(fn_data, parse_dates=True, index_col = 'UTC')\n",
    "# df = df[(df.index.date != datetime.date(2020, 2, 14)) # Minolta was covered in these dates\n",
    "#        &(df.index.date != datetime.date(2020, 2, 21))] "
   ]
  },
  {
   "cell_type": "code",
   "execution_count": 85,
   "metadata": {},
   "outputs": [],
   "source": [
    "# add x-y coordinates form the KFWS radar\n",
    "filename = dir_NEXRAD + '2020-02-10/2020_02_10_KFWS_KFWS20200210_005713_V06'\n",
    "radar = pyart.io.read_nexrad_archive(filename)\n",
    "\n",
    "radar_lat = radar.latitude['data'][0]  # 32.57300186\n",
    "radar_lon = radar.longitude['data'][0] # -97.30314636\n",
    "projparams = {'proj': 'pyart_aeqd',\n",
    "              'lon_0': radar_lon,\n",
    "              'lat_0': radar_lat}\n",
    "\n",
    "df['x'], df['y'] =  pyart.core.geographic_to_cartesian(df['longitude'], df['latitude'], projparams)\n",
    "\n",
    "\n",
    "# grid parameters\n",
    "step = 100 # grid resolution (meter) in x-y plane\n",
    "\n",
    "z_0, delta_z = 0, 10000\n",
    "num_z = int(delta_z // 1000) + 1\n",
    "\n",
    "delta_y , delta_x  = 1000, 1000 # neighbor distance\n",
    "delta_iy, delta_ix = int(delta_y / step), int(delta_x / step)\n",
    "\n",
    "\n",
    "# # add weights for Bilinear interpolation of radar data\n",
    "# df['res_y'], df['res_x'] =  (df['y'] % step) / step,  (df['x'] % step) / step\n",
    "# df['weight_y0x0'] = (1 - df['res_y']) * (1 - df['res_x'])\n",
    "# df['weight_y0x1'] = (1 - df['res_y']) *      df['res_x']\n",
    "# df['weight_y1x0'] =      df['res_y']  * (1 - df['res_x'])\n",
    "# df['weight_y1x1'] =      df['res_y']  *      df['res_x']\n",
    "\n",
    "# add nearest of radar data\n",
    "df['res_y'], df['res_x'] =  (df['y'] % step) / step,  (df['x'] % step) / step\n",
    "df['add_iy'], df['add_ix'] =  (df['res_y'] > 0.5).astype(int), (df['res_x'] > 0.5).astype(int)\n",
    "\n",
    "# neighbor parameters\n",
    "neighbor = {\n",
    "    ''    : (        0,         0),\n",
    "    # 1km\n",
    "    'N1'  : ( delta_iy,         0),\n",
    "    'N1E1': ( delta_iy,  delta_ix),\n",
    "    'E1'  : (        0,  delta_ix),\n",
    "    'S1E1': (-delta_iy,  delta_ix),\n",
    "    'S1'  : (-delta_iy,         0),\n",
    "    'S1W1': (-delta_iy, -delta_ix),\n",
    "    'W1'  : (        0, -delta_ix),\n",
    "    'N1W1': ( delta_iy, -delta_ix),\n",
    "    # 2km\n",
    "    'N2'  : ( 2*delta_iy,           0),\n",
    "    'N2E2': ( 2*delta_iy,  2*delta_ix),\n",
    "    'E2'  : (          0,  2*delta_ix),\n",
    "    'S2E2': (-2*delta_iy,  2*delta_ix),\n",
    "    'S2'  : (-2*delta_iy,           0),\n",
    "    'S2W2': (-2*delta_iy, -2*delta_ix),\n",
    "    'W2'  : (          0, -2*delta_ix),\n",
    "    'N2W2': ( 2*delta_iy, -2*delta_ix)\n",
    "}"
   ]
  },
  {
   "cell_type": "code",
   "execution_count": 107,
   "metadata": {},
   "outputs": [
    {
     "name": "stdout",
     "output_type": "stream",
     "text": [
      "2020-01-08 16:42:53   Reading Time:  2.0072059631347656, Griding Time:  3.0869481563568115, Inserting Time:  0.09359097480773926\n"
     ]
    }
   ],
   "source": [
    "# date range\n",
    "dates = np.unique(df.index.date)\n",
    "\n",
    "# loop parameters\n",
    "count = 0 # number of data records between the previous 2 radar files\n",
    "\n",
    "for date in dates:\n",
    "    yyyy_mm_dd = str(date)\n",
    "    yyyy = yyyy_mm_dd[:4]\n",
    "    mm = yyyy_mm_dd[5:7]\n",
    "    dd = yyyy_mm_dd[-2:]\n",
    "    \n",
    "    filenames = os.listdir(dir_NEXRAD + yyyy_mm_dd + '/')\n",
    "    filenames = [filename for filename in filenames if filename[-1]!= 'M']\n",
    "    \n",
    "    for i in range(len(filenames)):\n",
    "        # find the previous radar datetime\n",
    "        filename1 = filenames[i]\n",
    "        HHMMSS1 = filename1[-10:-4]\n",
    "        HH1, MM1, SS1 = HHMMSS1[:2], HHMMSS1[2:4], HHMMSS1[-2:]\n",
    "        time1 = datetime.time(int(HH1), int(MM1), int(SS1))\n",
    "        datetime1 = datetime.datetime.combine(date, time1)\n",
    "        \n",
    "        \n",
    "        # find the next radar datetime\n",
    "        if i < len(filenames)-1:\n",
    "            date2 = date\n",
    "            yyyy_mm_dd2 = str(date2)\n",
    "            filename2 = filenames[i+1]\n",
    "        else:\n",
    "            if count == 0: # skip if the last count == 0\n",
    "                continue\n",
    "            # 1st file of the next day\n",
    "            date2 = date + datetime.timedelta(days = 1)\n",
    "            yyyy_mm_dd2 = str(date2)\n",
    "            filenames2 = os.listdir(dir_NEXRAD + yyyy_mm_dd2 + '/')\n",
    "            for filename2 in filenames2:\n",
    "                if filename2[-1] != 'M':\n",
    "                    break\n",
    "            \n",
    "        HHMMSS2 = filename2[-10:-4]\n",
    "        HH2, MM2, SS2 = HHMMSS2[:2], HHMMSS2[2:4], HHMMSS2[-2:]\n",
    "        time2 = datetime.time(int(HH2), int(MM2), int(SS2))\n",
    "        datetime2 = datetime.datetime.combine(date2, time2)\n",
    "        \n",
    "        \n",
    "        # check if data exist between this time range\n",
    "        index_i = (df.index > datetime1) & (df.index <= datetime2)\n",
    "        count = index_i.sum()\n",
    "        if count == 0:\n",
    "            continue\n",
    "        \n",
    "        ###################################################################################\n",
    "        ################# add NEXRAD data between datetime1 and datetime2 #################\n",
    "        ###################################################################################\n",
    "        df_i = df[index_i]\n",
    "        path1 = dir_NEXRAD + yyyy_mm_dd + '/' + filename1\n",
    "#         path2 = dir_NEXRAD + yyyy_mm_dd2 + '/' + filename2\n",
    "        \n",
    "        # read NEXRAD data files\n",
    "        time_start = time.time()\n",
    "        radar1 = pyart.io.read_nexrad_archive(path1)\n",
    "#         radar2 = pyart.io.read_nexrad_archive(path2)\n",
    "        print(datetime1, '  Reading Time: ', time.time() - time_start, end = ', ')\n",
    "        \n",
    "        # set up grid parameters\n",
    "        y_min, y_max = (df_i['y'].min() // 100)* 100 - 2*delta_y, (df_i['y'].max() // 100 + 1)* 100 + 2*delta_y\n",
    "        x_min, x_max = (df_i['x'].min() // 100)* 100 - 2*delta_x, (df_i['x'].max() // 100 + 1)* 100 + 2*delta_x\n",
    "        \n",
    "        num_y = int((y_max - y_min) // 100) + 1\n",
    "        num_x = int((x_max - x_min) // 100) + 1\n",
    "        \n",
    "        time_start = time.time()\n",
    "        grid1 = pyart.map.grid_from_radars(radar1, grid_shape=(num_z, num_y, num_x),\\\n",
    "                                           grid_limits=((z_0, z_0 + delta_z), (y_min, y_max), (x_min, x_max)))\n",
    "#         grid2 = pyart.map.grid_from_radars(radar2, grid_shape=(num_z, num_y, num_x),\\\n",
    "#                                            grid_limits=((z_0, z_0 + delta_z), (y_min, y_max), (x_min, x_max)))\n",
    "        \n",
    "        fields1 = grid1.fields['reflectivity']['data'].filled(fill_value=np.nan)\n",
    "#         fields1 = grid1.fields['reflectivity']['data'].filled(fill_value=-33)\n",
    "#         fields2 = grid2.fields['reflectivity']['data'].filled(fill_value=-33)\n",
    "        print('Griding Time: ', time.time() - time_start, end = ', ')\n",
    "        \n",
    "        # add NEXRAD data into dataframe\n",
    "        time_start = time.time()\n",
    "#         datetime_interval = datetime2 - datetime1\n",
    "#         df_i.loc[:,'weight_t1'] = (datetime2 - df_i.index) / datetime_interval\n",
    "#         df_i.loc[:,'weight_t2'] = (df_i.index - datetime1) / datetime_interval\n",
    "\n",
    "        iy = ((df_i.loc[:,'y'] - y_min)//100).astype(int) + df_i.loc[:,'add_iy']\n",
    "        ix = ((df_i.loc[:,'x'] - x_min)//100).astype(int) + df_i.loc[:,'add_ix']\n",
    "#         iy = ((df_i.loc[:,'y'] - y_min)//100).astype(int) + df_i.loc[:,'add_iy']\n",
    "#         ix = ((df_i.loc[:,'x'] - x_min)//100).astype(int) + df_i.loc[:,'add_ix']\n",
    "\n",
    "        for iz in range(num_z):\n",
    "            for direction in neighbor:\n",
    "                var = 'reflectivity_' + str(iz) + 'km'\n",
    "                if direction:\n",
    "                    var += '_' + direction\n",
    "                diy, dix = neighbor[direction]\n",
    "                \n",
    "                # take nearest value\n",
    "                df.loc[index_i,var] = fields1[iz, iy+diy, ix+dix]\n",
    "                \n",
    "#                 val_t2  = df_i.loc[:,'weight_y0x0'] * fields1[iz, iy+diy  , ix+dix  ] \\\n",
    "#                         + df_i.loc[:,'weight_y0x1'] * fields1[iz, iy+diy  , ix+dix+1] \\\n",
    "#                         + df_i.loc[:,'weight_y1x0'] * fields1[iz, iy+diy+1, ix+dix  ] \\\n",
    "#                         + df_i.loc[:,'weight_y1x1'] * fields1[iz, iy+diy+1, ix+dix+1] \\\n",
    "\n",
    "#                 val_t2  = df_i.loc[:,'weight_y0x0'] * fields2[iz, iy+diy  , ix+dix  ] \\\n",
    "#                         + df_i.loc[:,'weight_y0x1'] * fields2[iz, iy+diy  , ix+dix+1] \\\n",
    "#                         + df_i.loc[:,'weight_y1x0'] * fields2[iz, iy+diy+1, ix+dix  ] \\\n",
    "#                         + df_i.loc[:,'weight_y1x1'] * fields2[iz, iy+diy+1, ix+dix+1] \\\n",
    "\n",
    "#                 df.loc[index_i,var] =  df_i.loc[:,'weight_t1'] * val_t1.loc[:] \\ \n",
    "#                                     +  df_i.loc[:,'weight_t2'] * val_t2.loc[:]\n",
    "# \n",
    "        print('Inserting Time: ', time.time() - time_start)\n",
    "#         break\n",
    "#     break"
   ]
  },
  {
   "cell_type": "code",
   "execution_count": 117,
   "metadata": {},
   "outputs": [
    {
     "data": {
      "text/plain": [
       "UTC\n",
       "2020-01-08 16:43:50   NaN\n",
       "2020-01-08 16:44:00   NaN\n",
       "2020-01-08 16:46:40   NaN\n",
       "2020-01-08 16:46:50   NaN\n",
       "2020-01-08 16:47:00   NaN\n",
       "                       ..\n",
       "2020-04-20 16:57:50   NaN\n",
       "2020-04-20 16:58:00   NaN\n",
       "2020-04-20 16:58:10   NaN\n",
       "2020-04-20 16:58:20   NaN\n",
       "2020-04-20 16:58:30   NaN\n",
       "Name: reflectivity_4km, Length: 21508, dtype: float32"
      ]
     },
     "execution_count": 117,
     "metadata": {},
     "output_type": "execute_result"
    }
   ],
   "source": [
    "df.loc[:,'reflectivity_4km']"
   ]
  },
  {
   "cell_type": "code",
   "execution_count": 79,
   "metadata": {},
   "outputs": [
    {
     "data": {
      "text/plain": [
       "(42,)"
      ]
     },
     "execution_count": 79,
     "metadata": {},
     "output_type": "execute_result"
    }
   ],
   "source": [
    "fields1[iz, iy+diy, ix+dix].shape"
   ]
  },
  {
   "cell_type": "code",
   "execution_count": 77,
   "metadata": {},
   "outputs": [],
   "source": [
    "# save merged data\n",
    "df.to_csv(dir_data + 'driving_' + node_id + '_NEXRAD_2km.csv')"
   ]
  },
  {
   "cell_type": "code",
   "execution_count": 23,
   "metadata": {},
   "outputs": [
    {
     "data": {
      "image/png": "[encoded data removed]",
      "text/plain": [
       "<Figure size 432x288 with 2 Axes>"
      ]
     },
     "metadata": {
      "needs_background": "light"
     },
     "output_type": "display_data"
    },
    {
     "data": {
      "image/png": "[encoded data removed]",
      "text/plain": [
       "<Figure size 432x288 with 2 Axes>"
      ]
     },
     "metadata": {
      "needs_background": "light"
     },
     "output_type": "display_data"
    }
   ],
   "source": [
    "fig = plt.figure(figsize=[6,4])\n",
    "display = pyart.graph.GridMapDisplay(grid1)\n",
    "display.plot_grid('reflectivity', level=0, vmin=-32, vmax=64)\n",
    "\n",
    "\n",
    "fig = plt.figure(figsize=[6,4])\n",
    "display = pyart.graph.GridMapDisplay(grid2)\n",
    "display.plot_grid('reflectivity', level=0, vmin=-32, vmax=64)\n"
   ]
  },
  {
   "cell_type": "code",
   "execution_count": 25,
   "metadata": {},
   "outputs": [
    {
     "data": {
      "text/plain": [
       "<matplotlib.collections.PathCollection at 0x7f956fc49d30>"
      ]
     },
     "execution_count": 25,
     "metadata": {},
     "output_type": "execute_result"
    },
    {
     "data": {
      "image/png": "[encoded data removed]",
      "text/plain": [
       "<Figure size 432x288 with 1 Axes>"
      ]
     },
     "metadata": {
      "needs_background": "light"
     },
     "output_type": "display_data"
    }
   ],
   "source": [
    "plt.scatter(df['reflectivity_1km'], df['Illuminance'])"
   ]
  },
  {
   "cell_type": "code",
   "execution_count": null,
   "metadata": {},
   "outputs": [],
   "source": []
  },
  {
   "cell_type": "markdown",
   "metadata": {},
   "source": [
    "## Driving Temporal Variogram"
   ]
  },
  {
   "cell_type": "code",
   "execution_count": 6,
   "metadata": {},
   "outputs": [
    {
     "name": "stdout",
     "output_type": "stream",
     "text": [
      "0\n"
     ]
    },
    {
     "ename": "NameError",
     "evalue": "name 'gamma_day' is not defined",
     "output_type": "error",
     "traceback": [
      "\u001b[0;31m---------------------------------------------------------------------------\u001b[0m",
      "\u001b[0;31mNameError\u001b[0m                                 Traceback (most recent call last)",
      "\u001b[0;32m<ipython-input-6-c3712a9d50ef>\u001b[0m in \u001b[0;36m<module>\u001b[0;34m\u001b[0m\n\u001b[1;32m     23\u001b[0m         \u001b[0mvariance\u001b[0m \u001b[0;34m=\u001b[0m \u001b[0mnp\u001b[0m\u001b[0;34m.\u001b[0m\u001b[0mappend\u001b[0m\u001b[0;34m(\u001b[0m\u001b[0mvariance\u001b[0m\u001b[0;34m,\u001b[0m \u001b[0mvariance1\u001b[0m\u001b[0;34m)\u001b[0m\u001b[0;34m\u001b[0m\u001b[0m\n\u001b[1;32m     24\u001b[0m \u001b[0;34m\u001b[0m\u001b[0m\n\u001b[0;32m---> 25\u001b[0;31m     \u001b[0;32mif\u001b[0m \u001b[0mlen\u001b[0m\u001b[0;34m(\u001b[0m\u001b[0mgamma_day\u001b[0m\u001b[0;34m)\u001b[0m\u001b[0;34m:\u001b[0m\u001b[0;34m\u001b[0m\u001b[0m\n\u001b[0m\u001b[1;32m     26\u001b[0m         \u001b[0mh_day\u001b[0m \u001b[0;34m=\u001b[0m \u001b[0mnp\u001b[0m\u001b[0;34m.\u001b[0m\u001b[0marray\u001b[0m\u001b[0;34m(\u001b[0m\u001b[0;34m[\u001b[0m\u001b[0;34m]\u001b[0m\u001b[0;34m)\u001b[0m\u001b[0;34m\u001b[0m\u001b[0m\n\u001b[1;32m     27\u001b[0m         \u001b[0mgamma_day\u001b[0m \u001b[0;34m=\u001b[0m \u001b[0mnp\u001b[0m\u001b[0;34m.\u001b[0m\u001b[0marray\u001b[0m\u001b[0;34m(\u001b[0m\u001b[0;34m[\u001b[0m\u001b[0;34m]\u001b[0m\u001b[0;34m)\u001b[0m\u001b[0;34m\u001b[0m\u001b[0m\n",
      "\u001b[0;31mNameError\u001b[0m: name 'gamma_day' is not defined"
     ]
    }
   ],
   "source": [
    "var = 'Illuminance'\n",
    "dh = 20\n",
    "\n",
    "for date in set(df.index.date):    \n",
    "    df1 = df[df.index.date == date]\n",
    "    h = np.array([])\n",
    "    variance = np.array([])\n",
    "    for i in range(len(df1)):\n",
    "        if i % 1000 == 0:\n",
    "            print(i)\n",
    "        ti = df1.index[i]\n",
    "        f = df1.iloc[i][var]\n",
    "    \n",
    "        # distance in seconds\n",
    "        h1 = abs(df1.index - df1.index[i]).seconds\n",
    "\n",
    "        # variances before square root\n",
    "        variance1 = (df1[var] - f).values**2\n",
    "\n",
    "        # filter in time window (hours)\n",
    "\n",
    "        h = np.append(h, h1)\n",
    "        variance = np.append(variance, variance1)\n",
    "\n",
    "    if len(gamma_day):\n",
    "        h_day = np.array([])\n",
    "        gamma_day = np.array([])\n",
    "        dt_day = np.array([])\n",
    "        for h_left in np.arange(0, h1.max()/50, dh):\n",
    "            h_i = h_left + dh/2\n",
    "            h_right = h_left + dh\n",
    "\n",
    "            iwant = (h >= h_left) & (h < h_right)\n",
    "            gamma_i = np.sqrt(variance[iwant].mean())\n",
    "\n",
    "            h_day = np.append(h_day, h_i)\n",
    "            gamma_day = np.append(gamma_day, gamma_i)\n",
    "\n",
    "        plt.figure(figsize=(8, 6))\n",
    "        plt.rcParams.update({'font.size': 15})\n",
    "        plt.scatter(h_day, gamma_day,  s = 20)\n",
    "        plt.xlabel('h / s')\n",
    "        plt.ylabel('$\\gamma$')\n",
    "        plt.title('Variogram: ' + str(date) +  '\\nrolling average by '+ str(dh)+ ' seconds ')\n",
    "        plt.xlim(0,h_day.max())\n",
    "        plt.ylim(0,np.nanmax(gamma_day)*1.1)\n",
    "        plt.savefig(dir_out+'variogram_t_%02d_%02d_%02d_avg_%02ds.png' % (date.year, date.month, date.day, dh ))\n",
    "        plt.close()"
   ]
  },
  {
   "cell_type": "markdown",
   "metadata": {},
   "source": [
    "## Spatial Variogram"
   ]
  },
  {
   "cell_type": "code",
   "execution_count": 8,
   "metadata": {},
   "outputs": [
    {
     "name": "stdout",
     "output_type": "stream",
     "text": [
      "0\n"
     ]
    },
    {
     "ename": "NameError",
     "evalue": "name 'R' is not defined",
     "output_type": "error",
     "traceback": [
      "\u001b[0;31m---------------------------------------------------------------------------\u001b[0m",
      "\u001b[0;31mNameError\u001b[0m                                 Traceback (most recent call last)",
      "\u001b[0;32m<ipython-input-8-b81259ece175>\u001b[0m in \u001b[0;36m<module>\u001b[0;34m\u001b[0m\n\u001b[1;32m     15\u001b[0m     \u001b[0;31m# ds = R*sqrt(dx^2 + dy^2)\u001b[0m\u001b[0;34m\u001b[0m\u001b[0;34m\u001b[0m\u001b[0m\n\u001b[1;32m     16\u001b[0m     \u001b[0;31m# distance in meters\u001b[0m\u001b[0;34m\u001b[0m\u001b[0;34m\u001b[0m\u001b[0m\n\u001b[0;32m---> 17\u001b[0;31m     \u001b[0mh1\u001b[0m \u001b[0;34m=\u001b[0m \u001b[0mR\u001b[0m\u001b[0;34m*\u001b[0m\u001b[0mnp\u001b[0m\u001b[0;34m.\u001b[0m\u001b[0msqrt\u001b[0m\u001b[0;34m(\u001b[0m\u001b[0mdx\u001b[0m\u001b[0;34m*\u001b[0m\u001b[0mdx\u001b[0m \u001b[0;34m+\u001b[0m \u001b[0mdy\u001b[0m\u001b[0;34m*\u001b[0m\u001b[0mdy\u001b[0m\u001b[0;34m)\u001b[0m\u001b[0;34m\u001b[0m\u001b[0m\n\u001b[0m\u001b[1;32m     18\u001b[0m \u001b[0;34m\u001b[0m\u001b[0m\n\u001b[1;32m     19\u001b[0m     \u001b[0;31m# variances before square root\u001b[0m\u001b[0;34m\u001b[0m\u001b[0;34m\u001b[0m\u001b[0m\n",
      "\u001b[0;31mNameError\u001b[0m: name 'R' is not defined"
     ]
    }
   ],
   "source": [
    "h = np.array([])\n",
    "variance = np.array([])\n",
    "deltaT = np.array([])\n",
    "for i in range(len(df1)):\n",
    "    if i % 1000 == 0:\n",
    "        print(i)\n",
    "    long = df1.iloc[i]['longitude']\n",
    "    lat = df1.iloc[i]['latitude']\n",
    "    f = df1.iloc[i][var]\n",
    "    \n",
    "    # dx = dlong* cos lat\n",
    "    dx = (df1['longitude'] - long).apply(math.radians) * np.cos(math.radians(df1['latitude'].mean()))\n",
    "    # dy = dlat\n",
    "    dy = (df1['latitude'] - lat).apply(math.radians)\n",
    "    # ds = R*sqrt(dx^2 + dy^2)\n",
    "    # distance in meters\n",
    "    h1 = R*np.sqrt(dx*dx + dy*dy)\n",
    "    \n",
    "    # variances before square root\n",
    "    variance1 = (df1[var] - f).values**2\n",
    "    \n",
    "    # filter in time window (hours)\n",
    "    deltaT1 = abs(h1.index - df1.index[i])\n",
    "    iwant = deltaT1 < datetime.timedelta(hours=0.5)\n",
    "    \n",
    "    h = np.append(h, h1[iwant])\n",
    "    variance = np.append(variance, variance1[iwant])\n",
    "    deltaT = np.append(deltaT, deltaT1[iwant].seconds)\n",
    "    "
   ]
  },
  {
   "cell_type": "code",
   "execution_count": 7,
   "metadata": {},
   "outputs": [
    {
     "name": "stderr",
     "output_type": "stream",
     "text": [
      "/Users/Strawberry/anaconda3/lib/python3.7/site-packages/ipykernel_launcher.py:10: RuntimeWarning: Mean of empty slice.\n",
      "  # Remove the CWD from sys.path while we load stuff.\n",
      "/Users/Strawberry/anaconda3/lib/python3.7/site-packages/numpy/core/_methods.py:170: RuntimeWarning: invalid value encountered in double_scalars\n",
      "  ret = ret.dtype.type(ret / rcount)\n"
     ]
    }
   ],
   "source": [
    "for dh in [5,10,20,30,40,50,60,70,80,90,100]:\n",
    "    h_day = np.array([])\n",
    "    gamma_day = np.array([])\n",
    "    dt_day = np.array([])\n",
    "    for h_left in np.arange(0, h1.max(), dh):\n",
    "        h_i = h_left + dh/2\n",
    "        h_right = h_left + dh\n",
    "\n",
    "        iwant = (h>=h_left) & (h < h_right)\n",
    "        gamma_i = np.sqrt(variance[iwant].mean())\n",
    "\n",
    "        h_day = np.append(h_day, h_i)\n",
    "        gamma_day = np.append(gamma_day, gamma_i)\n",
    "\n",
    "    plt.figure(figsize=(12, 10))\n",
    "    plt.rcParams.update({'font.size': 15})\n",
    "    plt.scatter(h_day, gamma_day,  s = 5)\n",
    "    plt.xlabel('h / m')\n",
    "    plt.ylabel('$\\gamma$')\n",
    "    plt.title('Variogram: ' + str(date) +  '\\nrolling average by '+ str(dh)+ ' meters ')\n",
    "    plt.xlim(0,6000)\n",
    "    plt.ylim(0,5000)\n",
    "    plt.savefig(dir_out+'variogram_%02d_%02d_%02d_avg_%02dm.png' % (date.year, date.month, date.day, dh ))\n",
    "    plt.close()"
   ]
  },
  {
   "cell_type": "code",
   "execution_count": 195,
   "metadata": {},
   "outputs": [
    {
     "name": "stderr",
     "output_type": "stream",
     "text": [
      "No handles with labels found to put in legend.\n"
     ]
    }
   ],
   "source": [
    "plt.figure(figsize=(10, 10))\n",
    "plt.rcParams.update({'font.size': 15})\n",
    "plt.scatter(h_day, gamma_day,  s = 5, c = dt_day)\n",
    "plt.xlabel('h / m')\n",
    "plt.ylabel('$\\gamma$')\n",
    "plt.title('Variogram: ' + str(date) +  '\\nrolling average by '+ str(dh)+ ' meters ')\n",
    "plt.ylim(0,5000)\n",
    "plt.legend( loc='lower right')\n",
    "plt.savefig(dir_out+'variogram_%02d_%02d_%02d_avg_%02dm.png' % (date.year, date.month, date.day, dh ))\n",
    "plt.close()"
   ]
  },
  {
   "cell_type": "code",
   "execution_count": 9,
   "metadata": {},
   "outputs": [
    {
     "name": "stdout",
     "output_type": "stream",
     "text": [
      "2020-01-23 680\n",
      "0\n"
     ]
    }
   ],
   "source": [
    "# variogram each day\n",
    "R = 6371 * 1000 # radius of earth\n",
    "\n",
    "h = np.array([])\n",
    "variance = np.array([])\n",
    "for date in set(df.index.date):\n",
    "    df1 = df[df.index.date == date]\n",
    "    if df1['longitude'].std() < 1E-4:\n",
    "        continue\n",
    "    \n",
    "    print(date,len(df1))\n",
    "    h = np.array([])\n",
    "    variance = np.array([])\n",
    "    for i in range(len(df1)):\n",
    "        if i % 1000 == 0:\n",
    "            print(i)\n",
    "        long = df1.iloc[i]['longitude']\n",
    "        lat = df1.iloc[i]['latitude']\n",
    "        f = df1.iloc[i][var]\n",
    "        # dx = dlong* cos lat\n",
    "        dx = (df1['longitude'] - long).apply(math.radians) * np.cos(math.radians(df1['latitude'].mean()))\n",
    "        # dy = dlat\n",
    "        dy = (df1['latitude'] - lat).apply(math.radians)\n",
    "        # ds = R*sqrt(dx^2 + dy^2)\n",
    "        \n",
    "        h1 = R*np.sqrt(dx*dx + dy*dy)\n",
    "        variance1 = (df1[var] - f).values**2\n",
    "\n",
    "        h = np.append(h, h1)\n",
    "        variance = np.append(variance, variance1)\n",
    "    \n",
    "    break\n",
    "    "
   ]
  },
  {
   "cell_type": "code",
   "execution_count": 194,
   "metadata": {},
   "outputs": [
    {
     "data": {
      "text/plain": [
       "0.8385263740005442"
      ]
     },
     "execution_count": 194,
     "metadata": {},
     "output_type": "execute_result"
    }
   ],
   "source": [
    "np.cos(math.radians(df1['latitude'].mean()))"
   ]
  },
  {
   "cell_type": "code",
   "execution_count": 276,
   "metadata": {},
   "outputs": [
    {
     "data": {
      "text/plain": [
       "20"
      ]
     },
     "execution_count": 276,
     "metadata": {},
     "output_type": "execute_result"
    }
   ],
   "source": []
  },
  {
   "cell_type": "code",
   "execution_count": null,
   "metadata": {},
   "outputs": [],
   "source": []
  },
  {
   "cell_type": "code",
   "execution_count": 78,
   "metadata": {},
   "outputs": [
    {
     "data": {
      "image/png": "[encoded data removed]",
      "text/plain": [
       "<Figure size 720x288 with 1 Axes>"
      ]
     },
     "metadata": {
      "needs_background": "light"
     },
     "output_type": "display_data"
    }
   ],
   "source": [
    "# rank feature inportance\n",
    "num_features = len(features)\n",
    "#std = np.std([tree.feature_importances_ for tree in regr.estimators_], axis=0)\n",
    "indices = np.argsort(MIs)[::-1]\n",
    "\n",
    "var_sorted = features[indices]\n",
    "MIs_sorted = MIs[indices]\n",
    "\n",
    "plt.rcParams[\"figure.figsize\"] = (10, num_features) # (w, h)\n",
    "plt.rcParams.update({'font.size': 20})\n",
    "fig, ax = plt.subplots()\n",
    "ax.barh(var_sorted[:num_features],\n",
    "        MIs_sorted[:], color = 'blue',\n",
    "        #yerr=std[indices][:num_features], ecolor='black',\n",
    "        align=\"center\")\n",
    "ax.invert_yaxis()  # labels read top-to-bottom\n",
    "ax.set_title('Mutual Information\\n between Features and Illuminance')\n",
    "plt.tight_layout()\n",
    "plt.savefig(dir_out + target + '/Mutual_Information_Illuminance.png')"
   ]
  },
  {
   "cell_type": "code",
   "execution_count": 81,
   "metadata": {},
   "outputs": [],
   "source": []
  },
  {
   "cell_type": "code",
   "execution_count": 88,
   "metadata": {},
   "outputs": [],
   "source": [
    "# EM\n",
    "Cluster = 'EM'\n",
    "em = GaussianMixture(n_components=n_components)\n",
    "em.fit(X_PCA)\n",
    "y_em = em.predict(X_PCA)\n",
    "#centers = em.cluster_centers_\n",
    "scatter(X_PCA,  X_PCA.columns[0], X_PCA.columns[1],  y_em)\n",
    "\n",
    "# export EM data\n",
    "df_DR_Cluster = df_DR.copy() \n",
    "df_DR_Cluster['Cluster'] = y_em\n",
    "df_DR_Cluster[target] = y_train_scaled\n",
    "\n",
    "#df_DR_Cluster.to_csv(dir_in + 'heart_'+ DR + '_' + Cluster +'.csv', index = False)\n"
   ]
  },
  {
   "cell_type": "code",
   "execution_count": null,
   "metadata": {},
   "outputs": [],
   "source": [
    "# one-hot encoding\n",
    "onehot_vars = ['Cluster']\n",
    "for var in onehot_vars:\n",
    "    df_add = pd.get_dummies(df_DR_Cluster[[var]].astype(str),prefix=[var], drop_first=True)\n",
    "    df = pd.concat([df, df_add], axis=1)\n",
    "\n",
    "df.drop(onehot_vars, axis=1, inplace=True)\n",
    "\n",
    "# move target to the last column\n",
    "df_target = df.pop('target') \n",
    "df['target'] = df_target"
   ]
  },
  {
   "cell_type": "code",
   "execution_count": 90,
   "metadata": {},
   "outputs": [],
   "source": [
    "#hidden_layer_sizes=(32,64,128)\n",
    "hidden_layer_sizes=(64,128,256)#\n",
    "#hidden_layer_sizes=(128,128,128,128)\n",
    "#hidden_layer_sizes=(150)\n",
    "activation ='relu'\n",
    "solver = 'adam'\n",
    "alpha=1e-5 # L2 penalty (regularization term) parameter, default 1e-5\n",
    "learning_rate = 'constant'\n",
    "\n",
    "# include layer structure and activation function\n",
    "structure = '_' + DR + str(n_components) + \\\n",
    "            '_' + str(hidden_layer_sizes)[1:-1].replace(', ','_') + \\\n",
    "            '_' + activation"
   ]
  },
  {
   "cell_type": "code",
   "execution_count": 42,
   "metadata": {},
   "outputs": [
    {
     "name": "stderr",
     "output_type": "stream",
     "text": [
      "/Users/Strawberry/anaconda3/lib/python3.7/site-packages/sklearn/neural_network/_multilayer_perceptron.py:1342: DataConversionWarning: A column-vector y was passed when a 1d array was expected. Please change the shape of y to (n_samples, ), for example using ravel().\n",
      "  y = column_or_1d(y, warn=True)\n"
     ]
    },
    {
     "name": "stdout",
     "output_type": "stream",
     "text": [
      "Iteration 1, loss = 0.24978304\n",
      "Iteration 2, loss = 0.19766890\n",
      "Iteration 3, loss = 0.18686484\n",
      "Iteration 4, loss = 0.17985114\n",
      "Iteration 5, loss = 0.17700322\n",
      "Iteration 6, loss = 0.17277917\n",
      "Iteration 7, loss = 0.16807567\n",
      "Iteration 8, loss = 0.16515572\n",
      "Iteration 9, loss = 0.16163736\n",
      "Iteration 10, loss = 0.16254459\n",
      "Iteration 11, loss = 0.15741617\n",
      "Iteration 12, loss = 0.15371796\n",
      "Iteration 13, loss = 0.14991794\n",
      "Iteration 14, loss = 0.14903290\n",
      "Iteration 15, loss = 0.14416498\n",
      "Iteration 16, loss = 0.14437645\n",
      "Iteration 17, loss = 0.14167055\n",
      "Iteration 18, loss = 0.14014031\n",
      "Iteration 19, loss = 0.13835518\n",
      "Iteration 20, loss = 0.13468058\n",
      "Iteration 21, loss = 0.13468341\n",
      "Iteration 22, loss = 0.13261491\n",
      "Iteration 23, loss = 0.13181999\n",
      "Iteration 24, loss = 0.12880940\n",
      "Iteration 25, loss = 0.12779694\n",
      "Iteration 26, loss = 0.12384032\n",
      "Iteration 27, loss = 0.12309710\n",
      "Iteration 28, loss = 0.12328653\n",
      "Iteration 29, loss = 0.12492425\n",
      "Iteration 30, loss = 0.12093945\n",
      "Iteration 31, loss = 0.12050412\n",
      "Iteration 32, loss = 0.11820845\n",
      "Iteration 33, loss = 0.11809543\n",
      "Iteration 34, loss = 0.11833900\n",
      "Iteration 35, loss = 0.11666868\n",
      "Iteration 36, loss = 0.11740241\n",
      "Iteration 37, loss = 0.11547071\n",
      "Iteration 38, loss = 0.11557100\n",
      "Iteration 39, loss = 0.11297533\n",
      "Iteration 40, loss = 0.11193451\n",
      "Iteration 41, loss = 0.11461445\n",
      "Iteration 42, loss = 0.11266463\n",
      "Iteration 43, loss = 0.11245026\n",
      "Iteration 44, loss = 0.11138936\n",
      "Iteration 45, loss = 0.10977290\n",
      "Iteration 46, loss = 0.10885824\n",
      "Iteration 47, loss = 0.10939924\n",
      "Iteration 48, loss = 0.10750578\n",
      "Iteration 49, loss = 0.10820619\n",
      "Iteration 50, loss = 0.10840627\n",
      "Iteration 51, loss = 0.10538586\n",
      "Iteration 52, loss = 0.10717081\n",
      "Iteration 53, loss = 0.10288171\n",
      "Iteration 54, loss = 0.10517851\n",
      "Iteration 55, loss = 0.10344350\n",
      "Iteration 56, loss = 0.10520414\n",
      "Iteration 57, loss = 0.10138871\n",
      "Iteration 58, loss = 0.10288317\n",
      "Iteration 59, loss = 0.10140608\n",
      "Iteration 60, loss = 0.10116265\n",
      "Iteration 61, loss = 0.10098966\n",
      "Iteration 62, loss = 0.09935733\n",
      "Iteration 63, loss = 0.09965882\n",
      "Iteration 64, loss = 0.10002907\n",
      "Iteration 65, loss = 0.10054966\n",
      "Iteration 66, loss = 0.09831143\n",
      "Iteration 67, loss = 0.09844271\n",
      "Iteration 68, loss = 0.09866607\n",
      "Iteration 69, loss = 0.09690547\n",
      "Iteration 70, loss = 0.09712724\n",
      "Iteration 71, loss = 0.09562169\n",
      "Iteration 72, loss = 0.09785890\n",
      "Iteration 73, loss = 0.09734269\n",
      "Iteration 74, loss = 0.09650002\n",
      "Iteration 75, loss = 0.09471388\n",
      "Iteration 76, loss = 0.09669106\n",
      "Iteration 77, loss = 0.09417035\n",
      "Iteration 78, loss = 0.09230454\n",
      "Iteration 79, loss = 0.09545623\n",
      "Iteration 80, loss = 0.09526967\n",
      "Iteration 81, loss = 0.09347111\n",
      "Iteration 82, loss = 0.09052621\n",
      "Iteration 83, loss = 0.09249481\n",
      "Iteration 84, loss = 0.09111110\n",
      "Iteration 85, loss = 0.09066305\n",
      "Iteration 86, loss = 0.09158750\n",
      "Iteration 87, loss = 0.09008275\n",
      "Iteration 88, loss = 0.09149178\n",
      "Iteration 89, loss = 0.08991344\n",
      "Iteration 90, loss = 0.09043246\n",
      "Iteration 91, loss = 0.09089396\n",
      "Iteration 92, loss = 0.08976282\n",
      "Iteration 93, loss = 0.08838077\n",
      "Iteration 94, loss = 0.08922903\n",
      "Iteration 95, loss = 0.08720746\n",
      "Iteration 96, loss = 0.08958030\n",
      "Iteration 97, loss = 0.08744979\n",
      "Iteration 98, loss = 0.08782266\n",
      "Iteration 99, loss = 0.08736536\n",
      "Iteration 100, loss = 0.08457090\n",
      "Iteration 101, loss = 0.08717722\n",
      "Iteration 102, loss = 0.08906195\n",
      "Iteration 103, loss = 0.08414416\n",
      "Iteration 104, loss = 0.08448163\n",
      "Iteration 105, loss = 0.08697114\n",
      "Iteration 106, loss = 0.08687100\n",
      "Iteration 107, loss = 0.08405824\n",
      "Iteration 108, loss = 0.08347910\n",
      "Iteration 109, loss = 0.08385845\n",
      "Iteration 110, loss = 0.08546259\n",
      "Iteration 111, loss = 0.08281670\n",
      "Iteration 112, loss = 0.08165103\n",
      "Iteration 113, loss = 0.08599085\n",
      "Iteration 114, loss = 0.08350230\n",
      "Iteration 115, loss = 0.08508371\n",
      "Iteration 116, loss = 0.08101295\n",
      "Iteration 117, loss = 0.08168700\n",
      "Iteration 118, loss = 0.08264973\n",
      "Iteration 119, loss = 0.08103501\n",
      "Iteration 120, loss = 0.08156902\n",
      "Iteration 121, loss = 0.08023246\n",
      "Iteration 122, loss = 0.08285951\n",
      "Iteration 123, loss = 0.08255615\n",
      "Iteration 124, loss = 0.08087204\n",
      "Iteration 125, loss = 0.08001326\n",
      "Iteration 126, loss = 0.08005004\n",
      "Iteration 127, loss = 0.07903042\n",
      "Iteration 128, loss = 0.08064368\n",
      "Iteration 129, loss = 0.07912804\n",
      "Iteration 130, loss = 0.08033752\n",
      "Iteration 131, loss = 0.08071694\n",
      "Iteration 132, loss = 0.08147231\n",
      "Iteration 133, loss = 0.08054635\n",
      "Iteration 134, loss = 0.07852365\n",
      "Iteration 135, loss = 0.07836975\n",
      "Iteration 136, loss = 0.07727242\n",
      "Iteration 137, loss = 0.07823791\n",
      "Iteration 138, loss = 0.07779014\n",
      "Iteration 139, loss = 0.07767936\n",
      "Iteration 140, loss = 0.07618280\n",
      "Iteration 141, loss = 0.07563659\n",
      "Iteration 142, loss = 0.07645062\n",
      "Iteration 143, loss = 0.07823198\n",
      "Iteration 144, loss = 0.07730695\n",
      "Iteration 145, loss = 0.07540960\n",
      "Iteration 146, loss = 0.07657042\n",
      "Iteration 147, loss = 0.07614914\n",
      "Iteration 148, loss = 0.07628732\n",
      "Iteration 149, loss = 0.07659068\n",
      "Iteration 150, loss = 0.07418922\n",
      "Iteration 151, loss = 0.07509298\n",
      "Iteration 152, loss = 0.07749393\n",
      "Iteration 153, loss = 0.07749156\n",
      "Iteration 154, loss = 0.07639174\n",
      "Iteration 155, loss = 0.07494506\n",
      "Iteration 156, loss = 0.07371558\n",
      "Iteration 157, loss = 0.07505919\n",
      "Iteration 158, loss = 0.07652602\n",
      "Iteration 159, loss = 0.07440761\n",
      "Iteration 160, loss = 0.07231582\n",
      "Iteration 161, loss = 0.07205882\n",
      "Iteration 162, loss = 0.07244131\n",
      "Iteration 163, loss = 0.07471982\n",
      "Iteration 164, loss = 0.07342720\n",
      "Iteration 165, loss = 0.07465621\n",
      "Iteration 166, loss = 0.07410846\n",
      "Iteration 167, loss = 0.07194741\n",
      "Iteration 168, loss = 0.07234443\n",
      "Iteration 169, loss = 0.07299594\n",
      "Iteration 170, loss = 0.07173549\n",
      "Iteration 171, loss = 0.07181480\n",
      "Iteration 172, loss = 0.07300033\n",
      "Iteration 173, loss = 0.07274560\n",
      "Iteration 174, loss = 0.07170293\n",
      "Iteration 175, loss = 0.07279699\n",
      "Iteration 176, loss = 0.07080530\n",
      "Iteration 177, loss = 0.07134125\n",
      "Iteration 178, loss = 0.07074353\n",
      "Iteration 179, loss = 0.07288641\n",
      "Iteration 180, loss = 0.06978145\n",
      "Iteration 181, loss = 0.07205328\n",
      "Iteration 182, loss = 0.06994569\n",
      "Iteration 183, loss = 0.07179930\n",
      "Iteration 184, loss = 0.07114224\n",
      "Iteration 185, loss = 0.07086414\n",
      "Iteration 186, loss = 0.07131025\n",
      "Iteration 187, loss = 0.07132458\n",
      "Iteration 188, loss = 0.06931335\n",
      "Iteration 189, loss = 0.07014538\n",
      "Iteration 190, loss = 0.06921179\n",
      "Iteration 191, loss = 0.07032413\n",
      "Iteration 192, loss = 0.06854812\n",
      "Iteration 193, loss = 0.06949619\n",
      "Iteration 194, loss = 0.06831603\n",
      "Iteration 195, loss = 0.06994017\n",
      "Iteration 196, loss = 0.06904633\n",
      "Iteration 197, loss = 0.06934234\n",
      "Iteration 198, loss = 0.06929175\n",
      "Iteration 199, loss = 0.06746825\n",
      "Iteration 200, loss = 0.06856959\n"
     ]
    },
    {
     "name": "stderr",
     "output_type": "stream",
     "text": [
      "/Users/Strawberry/anaconda3/lib/python3.7/site-packages/sklearn/neural_network/_multilayer_perceptron.py:571: ConvergenceWarning: Stochastic Optimizer: Maximum iterations (200) reached and the optimization hasn't converged yet.\n",
      "  % self.max_iter, ConvergenceWarning)\n",
      "/Users/Strawberry/anaconda3/lib/python3.7/site-packages/sklearn/neural_network/_multilayer_perceptron.py:1342: DataConversionWarning: A column-vector y was passed when a 1d array was expected. Please change the shape of y to (n_samples, ), for example using ravel().\n",
      "  y = column_or_1d(y, warn=True)\n"
     ]
    },
    {
     "name": "stdout",
     "output_type": "stream",
     "text": [
      "Iteration 201, loss = 0.06046424\n",
      "Iteration 202, loss = 0.05823911\n",
      "Iteration 203, loss = 0.05800048\n",
      "Iteration 204, loss = 0.05781358\n",
      "Iteration 205, loss = 0.05765320\n",
      "Iteration 206, loss = 0.05751840\n",
      "Iteration 207, loss = 0.05741285\n",
      "Iteration 208, loss = 0.05729673\n",
      "Iteration 209, loss = 0.05715286\n",
      "Iteration 210, loss = 0.05749360\n",
      "Iteration 211, loss = 0.05709018\n",
      "Iteration 212, loss = 0.05696343\n",
      "Iteration 213, loss = 0.05698680\n",
      "Iteration 214, loss = 0.05684813\n",
      "Iteration 215, loss = 0.05680614\n",
      "Iteration 216, loss = 0.05684098\n",
      "Iteration 217, loss = 0.05680747\n",
      "Iteration 218, loss = 0.05674410\n",
      "Iteration 219, loss = 0.05663876\n",
      "Iteration 220, loss = 0.05659056\n",
      "Iteration 221, loss = 0.05657127\n",
      "Iteration 222, loss = 0.05645306\n",
      "Iteration 223, loss = 0.05662800\n",
      "Iteration 224, loss = 0.05655155\n",
      "Iteration 225, loss = 0.05632543\n",
      "Iteration 226, loss = 0.05628983\n",
      "Iteration 227, loss = 0.05628233\n",
      "Iteration 228, loss = 0.05623468\n",
      "Iteration 229, loss = 0.05634472\n",
      "Iteration 230, loss = 0.05617977\n",
      "Iteration 231, loss = 0.05619504\n",
      "Iteration 232, loss = 0.05611339\n",
      "Iteration 233, loss = 0.05596046\n",
      "Iteration 234, loss = 0.05610955\n",
      "Iteration 235, loss = 0.05586148\n",
      "Iteration 236, loss = 0.05594325\n",
      "Iteration 237, loss = 0.05575624\n",
      "Iteration 238, loss = 0.05585562\n",
      "Iteration 239, loss = 0.05583792\n",
      "Iteration 240, loss = 0.05573936\n",
      "Iteration 241, loss = 0.05562552\n",
      "Iteration 242, loss = 0.05571785\n",
      "Iteration 243, loss = 0.05563972\n",
      "Iteration 244, loss = 0.05595165\n",
      "Iteration 245, loss = 0.05562800\n",
      "Iteration 246, loss = 0.05566528\n",
      "Iteration 247, loss = 0.05534484\n",
      "Iteration 248, loss = 0.05538962\n",
      "Iteration 249, loss = 0.05551209\n",
      "Iteration 250, loss = 0.05532191\n",
      "Iteration 251, loss = 0.05528020\n",
      "Iteration 252, loss = 0.05546074\n",
      "Iteration 253, loss = 0.05551214\n",
      "Iteration 254, loss = 0.05529042\n",
      "Iteration 255, loss = 0.05528735\n",
      "Iteration 256, loss = 0.05517521\n",
      "Iteration 257, loss = 0.05522501\n",
      "Iteration 258, loss = 0.05511264\n",
      "Iteration 259, loss = 0.05520590\n",
      "Iteration 260, loss = 0.05511933\n",
      "Iteration 261, loss = 0.05500690\n",
      "Iteration 262, loss = 0.05504728\n",
      "Iteration 263, loss = 0.05497087\n",
      "Iteration 264, loss = 0.05493604\n",
      "Iteration 265, loss = 0.05479788\n",
      "Iteration 266, loss = 0.05475611\n",
      "Iteration 267, loss = 0.05470158\n",
      "Iteration 268, loss = 0.05477351\n",
      "Iteration 269, loss = 0.05460539\n",
      "Iteration 270, loss = 0.05469042\n",
      "Iteration 271, loss = 0.05484057\n",
      "Iteration 272, loss = 0.05451688\n",
      "Iteration 273, loss = 0.05476927\n",
      "Iteration 274, loss = 0.05478382\n",
      "Iteration 275, loss = 0.05458221\n",
      "Iteration 276, loss = 0.05440006\n",
      "Iteration 277, loss = 0.05447015\n",
      "Iteration 278, loss = 0.05435537\n",
      "Iteration 279, loss = 0.05449095\n",
      "Iteration 280, loss = 0.05431775\n",
      "Iteration 281, loss = 0.05449811\n",
      "Iteration 282, loss = 0.05417686\n",
      "Iteration 283, loss = 0.05435228\n",
      "Iteration 284, loss = 0.05415849\n",
      "Iteration 285, loss = 0.05442740\n",
      "Iteration 286, loss = 0.05428491\n",
      "Iteration 287, loss = 0.05430482\n",
      "Iteration 288, loss = 0.05392452\n",
      "Iteration 289, loss = 0.05406848\n",
      "Iteration 290, loss = 0.05413514\n",
      "Iteration 291, loss = 0.05389997\n",
      "Iteration 292, loss = 0.05419361\n",
      "Iteration 293, loss = 0.05417014\n",
      "Iteration 294, loss = 0.05397693\n",
      "Iteration 295, loss = 0.05401435\n",
      "Iteration 296, loss = 0.05417699\n",
      "Iteration 297, loss = 0.05376672\n",
      "Iteration 298, loss = 0.05387496\n",
      "Iteration 299, loss = 0.05381011\n",
      "Iteration 300, loss = 0.05376467\n",
      "Iteration 301, loss = 0.05375020\n",
      "Iteration 302, loss = 0.05353421\n",
      "Iteration 303, loss = 0.05382234\n",
      "Iteration 304, loss = 0.05364313\n",
      "Iteration 305, loss = 0.05358286\n",
      "Iteration 306, loss = 0.05370261\n",
      "Iteration 307, loss = 0.05360446\n",
      "Iteration 308, loss = 0.05348423\n",
      "Iteration 309, loss = 0.05343698\n",
      "Iteration 310, loss = 0.05340845\n",
      "Iteration 311, loss = 0.05348470\n",
      "Iteration 312, loss = 0.05334569\n",
      "Iteration 313, loss = 0.05331083\n",
      "Training loss did not improve more than tol=0.000100 for 10 consecutive epochs. Stopping.\n"
     ]
    },
    {
     "name": "stderr",
     "output_type": "stream",
     "text": [
      "/Users/Strawberry/anaconda3/lib/python3.7/site-packages/sklearn/neural_network/_multilayer_perceptron.py:1342: DataConversionWarning: A column-vector y was passed when a 1d array was expected. Please change the shape of y to (n_samples, ), for example using ravel().\n",
      "  y = column_or_1d(y, warn=True)\n"
     ]
    },
    {
     "name": "stdout",
     "output_type": "stream",
     "text": [
      "Iteration 314, loss = 0.05237504\n",
      "Iteration 315, loss = 0.05214596\n",
      "Iteration 316, loss = 0.05209610\n",
      "Iteration 317, loss = 0.05204638\n",
      "Iteration 318, loss = 0.05204958\n",
      "Iteration 319, loss = 0.05203741\n",
      "Iteration 320, loss = 0.05203714\n",
      "Iteration 321, loss = 0.05201560\n",
      "Iteration 322, loss = 0.05201285\n",
      "Iteration 323, loss = 0.05205316\n",
      "Iteration 324, loss = 0.05201425\n",
      "Iteration 325, loss = 0.05199157\n",
      "Iteration 326, loss = 0.05201714\n",
      "Training loss did not improve more than tol=0.000100 for 10 consecutive epochs. Stopping.\n",
      "--- 189.56539583206177 seconds ---\n"
     ]
    }
   ],
   "source": [
    "start_time = time.time()\n",
    "\n",
    "\n",
    "regr = MLPRegressor(random_state = RANDOM_STATE,\n",
    "                    hidden_layer_sizes = hidden_layer_sizes,\n",
    "                    activation = activation,\n",
    "                    solver = solver,\n",
    "                    alpha = alpha,\n",
    "                    learning_rate = learning_rate,\n",
    "                    verbose = True\n",
    "                    )\n",
    "regr.fit(X_train_scaled_DR_scaled, y_train_scaled)\n",
    "\n",
    "# fine tune the model\n",
    "regr.warm_start = True\n",
    "regr.learning_rate_init /= 10 # default 0.001\n",
    "regr.fit(X_train_scaled_DR_scaled, y_train_scaled)\n",
    "\n",
    "regr.learning_rate_init /= 10 # default 0.001\n",
    "regr.fit(X_train_scaled_DR_scaled, y_train_scaled)\n",
    "\n",
    "print(\"--- %s seconds ---\" % (time.time() - start_time))"
   ]
  },
  {
   "cell_type": "code",
   "execution_count": 43,
   "metadata": {},
   "outputs": [],
   "source": [
    "# save model\n",
    "dir_model = '../models/' + folder + '/'\n",
    "if not os.path.exists(dir_model):\n",
    "    os.mkdir(dir_model)\n",
    "dir_model +=  target + '/'\n",
    "if not os.path.exists(dir_model):\n",
    "    os.mkdir(dir_model)\n",
    "\n",
    "fn_model = dir_model + target + structure + '.sav'\n",
    "pickle.dump(regr, open(fn_model, 'wb'))\n"
   ]
  },
  {
   "cell_type": "code",
   "execution_count": null,
   "metadata": {},
   "outputs": [],
   "source": [
    "# dir_model = '../models/' + folder + '/' + target + '/'\n",
    "# fn_model = dir_model + target + structure + '.sav'\n",
    "# regr = pickle.load(open(fn_model, 'rb'))"
   ]
  },
  {
   "cell_type": "code",
   "execution_count": 49,
   "metadata": {},
   "outputs": [
    {
     "data": {
      "image/png": "[encoded data removed]",
      "text/plain": [
       "<Figure size 576x576 with 1 Axes>"
      ]
     },
     "metadata": {
      "needs_background": "light"
     },
     "output_type": "display_data"
    }
   ],
   "source": [
    "y_train_pred = scaler_y.inverse_transform(\\\n",
    "                    regr.predict( X_train_scaled_DR_scaled ).reshape(-1,1)\n",
    "                    ) # for train\n",
    "y_test_pred = scaler_y.inverse_transform(\\\n",
    "                    regr.predict( X_test_scaled_DR_scaled ).reshape(-1,1)\n",
    "                    ) # for image\n",
    "\n",
    "train_score =  r2_score(y_train, y_train_pred)\n",
    "test_score = r2_score(y_test, y_test_pred)\n",
    "\n",
    "y_min = 0\n",
    "y_max = np.amax(y_train.values)*0.6\n",
    "y_line = np.linspace(y_min,y_max,100)\n",
    "\n",
    "plt.rcParams[\"figure.figsize\"] = (8, 8) # (w, h)\n",
    "plt.rcParams.update({'font.size': 20})\n",
    "fig, ax = plt.subplots()\n",
    "plt.plot(y_line,y_line, '-k', label='y=x')\n",
    "plt.scatter(y_train,y_train_pred, s=2, c = 'blue',label = 'Train, R$^{2}$ ='+str(train_score)[:6])\n",
    "plt.scatter(y_test,y_test_pred, s=2, c = 'red', label = 'Test, R$^{2}$ ='+str(test_score)[:6])\n",
    "plt.xlim((y_min,y_max))\n",
    "plt.ylim((y_min,y_max))\n",
    "ax.set_title('Predicted vs Actual for ' + target)\n",
    "ax.set_xlabel('Actual Value')\n",
    "ax.set_ylabel('Predicted Value')\n",
    "plt.legend( loc='lower right')\n",
    "plt.grid()\n",
    "plt.tight_layout()\n",
    "\n",
    "if not os.path.exists(dir_out + target):\n",
    "    os.mkdir(dir_out + target)\n",
    "plt.savefig(dir_out + target +'/MLP_performance_'+target+structure+'.png')\n"
   ]
  },
  {
   "cell_type": "code",
   "execution_count": 45,
   "metadata": {},
   "outputs": [
    {
     "data": {
      "text/plain": [
       "45418.560547"
      ]
     },
     "execution_count": 45,
     "metadata": {},
     "output_type": "execute_result"
    }
   ],
   "source": [
    "y_max"
   ]
  },
  {
   "cell_type": "code",
   "execution_count": 10,
   "metadata": {},
   "outputs": [
    {
     "data": {
      "text/plain": [
       "Index(['Illuminance', '360nm', '361nm', '362nm', '363nm', '364nm', '365nm',\n",
       "       '366nm', '367nm', '368nm',\n",
       "       ...\n",
       "       '775nm', '776nm', '777nm', '778nm', '779nm', '780nm', 'Zenith',\n",
       "       'latitude', 'longitude', 'altitude'],\n",
       "      dtype='object', length=426)"
      ]
     },
     "execution_count": 10,
     "metadata": {},
     "output_type": "execute_result"
    }
   ],
   "source": [
    "df.columns"
   ]
  },
  {
   "cell_type": "code",
   "execution_count": 10,
   "metadata": {},
   "outputs": [
    {
     "name": "stdout",
     "output_type": "stream",
     "text": [
      "32.923808333333334\n"
     ]
    },
    {
     "data": {
      "text/plain": [
       "(32.0, 55.0, 25.0)"
      ]
     },
     "execution_count": 10,
     "metadata": {},
     "output_type": "execute_result"
    }
   ],
   "source": [
    "temp = df['latitude'].values.min()\n",
    "print(temp)\n",
    "temp//1,(temp%1)*60//1, ((temp%1)*60)%1*60//1"
   ]
  },
  {
   "cell_type": "code",
   "execution_count": 11,
   "metadata": {},
   "outputs": [
    {
     "name": "stdout",
     "output_type": "stream",
     "text": [
      "33.21573566666666\n"
     ]
    },
    {
     "data": {
      "text/plain": [
       "(33.0, 12.0, 56.0)"
      ]
     },
     "execution_count": 11,
     "metadata": {},
     "output_type": "execute_result"
    }
   ],
   "source": [
    "temp = df['latitude'].values.max()\n",
    "print(temp)\n",
    "temp//1,(temp%1)*60//1, ((temp%1)*60)%1*60//1"
   ]
  },
  {
   "cell_type": "code",
   "execution_count": 12,
   "metadata": {},
   "outputs": [
    {
     "name": "stdout",
     "output_type": "stream",
     "text": [
      "96.59482766666667\n"
     ]
    },
    {
     "data": {
      "text/plain": [
       "(96.0, 35.0, 41.0)"
      ]
     },
     "execution_count": 12,
     "metadata": {},
     "output_type": "execute_result"
    }
   ],
   "source": [
    "temp = df['longitude'].values.min()\n",
    "print(temp)\n",
    "temp//1,(temp%1)*60//1, ((temp%1)*60)%1*60//1"
   ]
  },
  {
   "cell_type": "code",
   "execution_count": 13,
   "metadata": {},
   "outputs": [
    {
     "name": "stdout",
     "output_type": "stream",
     "text": [
      "97.161448\n"
     ]
    },
    {
     "data": {
      "text/plain": [
       "(97.0, 9.0, 41.0)"
      ]
     },
     "execution_count": 13,
     "metadata": {},
     "output_type": "execute_result"
    }
   ],
   "source": [
    "temp = df['longitude'].values.max()\n",
    "print(temp)\n",
    "temp//1,(temp%1)*60//1, ((temp%1)*60)%1*60//1"
   ]
  },
  {
   "cell_type": "code",
   "execution_count": null,
   "metadata": {},
   "outputs": [],
   "source": [
    "#  32.5,  33.5\n",
    "# -97.5, -96.5\n",
    "\n"
   ]
  },
  {
   "cell_type": "code",
   "execution_count": 15,
   "metadata": {},
   "outputs": [
    {
     "data": {
      "text/plain": [
       "(96.87813783333334, 33.069772)"
      ]
     },
     "execution_count": 15,
     "metadata": {},
     "output_type": "execute_result"
    }
   ],
   "source": [
    "(96.59482766666667 + 97.161448)/2, (32.923808333333334+33.21573566666666)/2\n"
   ]
  },
  {
   "cell_type": "markdown",
   "metadata": {},
   "source": [
    "## Google Earth Engine"
   ]
  },
  {
   "cell_type": "code",
   "execution_count": null,
   "metadata": {},
   "outputs": [],
   "source": [
    "var geometry = \n",
    "    /* color: #d68480 */\n",
    "    /* displayProperties: [\n",
    "      {\n",
    "        \"type\": \"rectangle\"\n",
    "      }\n",
    "    ] */\n",
    "    ee.Geometry.Polygon(\n",
    "        [[[-97.161448, 32.923808333333334],\n",
    "          [-97.161448, 33.21573566666666],\n",
    "          [-96.59482766666667, 33.21573566666666],\n",
    "          [-96.59482766666667, 32.923808333333334]]], null, false);"
   ]
  },
  {
   "cell_type": "code",
   "execution_count": null,
   "metadata": {},
   "outputs": [],
   "source": [
    "/**\n",
    " * Function to mask clouds based on the pixel_qa band of Landsat 8 SR data.\n",
    " * @param {ee.Image} image input Landsat 8 SR image\n",
    " * @return {ee.Image} cloudmasked Landsat 8 image\n",
    " */\n",
    "function maskL8sr(image) {\n",
    "  // Bits 3 and 5 are cloud shadow and cloud, respectively.\n",
    "  var cloudShadowBitMask = (1 << 3);\n",
    "  var cloudsBitMask = (1 << 5);\n",
    "  // Get the pixel QA band.\n",
    "  var qa = image.select('pixel_qa');\n",
    "  // Both flags should be set to zero, indicating clear conditions.\n",
    "  var mask = qa.bitwiseAnd(cloudShadowBitMask).eq(0)\n",
    "                 .and(qa.bitwiseAnd(cloudsBitMask).eq(0));\n",
    "  return image.updateMask(mask);\n",
    "}\n",
    "\n",
    "var dataset = ee.ImageCollection('LANDSAT/LC08/C01/T1_SR')\n",
    "                  .filterDate('2020-01-25', '2020-02-10')\n",
    "                  .filterBounds(geometry)\n",
    "                  .map(maskL8sr);\n",
    "\n",
    "var visParams = {\n",
    "  bands: ['B4', 'B3', 'B2'],\n",
    "  min: 0,\n",
    "  max: 3000,\n",
    "  gamma: 1.4,\n",
    "};\n",
    "Map.setCenter(-96.87813783333334, 33.069772, 9);\n",
    "Map.addLayer(dataset.median(), visParams);\n",
    "\n",
    "\n",
    "Export.image.toDrive({\n",
    "  image:dataset.median(),\n",
    "  description:\"landsat8\",\n",
    "  scale:30,\n",
    "  region:geometry\n",
    "});\n"
   ]
  },
  {
   "cell_type": "code",
   "execution_count": 30,
   "metadata": {},
   "outputs": [
    {
     "data": {
      "text/plain": [
       "{datetime.date(2020, 1, 8),\n",
       " datetime.date(2020, 1, 9),\n",
       " datetime.date(2020, 1, 15),\n",
       " datetime.date(2020, 1, 16),\n",
       " datetime.date(2020, 1, 17),\n",
       " datetime.date(2020, 1, 23),\n",
       " datetime.date(2020, 1, 24),\n",
       " datetime.date(2020, 1, 25),\n",
       " datetime.date(2020, 1, 26),\n",
       " datetime.date(2020, 1, 27),\n",
       " datetime.date(2020, 1, 28),\n",
       " datetime.date(2020, 1, 29),\n",
       " datetime.date(2020, 1, 30),\n",
       " datetime.date(2020, 1, 31),\n",
       " datetime.date(2020, 2, 1),\n",
       " datetime.date(2020, 2, 2),\n",
       " datetime.date(2020, 2, 3),\n",
       " datetime.date(2020, 2, 7),\n",
       " datetime.date(2020, 2, 8),\n",
       " datetime.date(2020, 2, 9),\n",
       " datetime.date(2020, 2, 10),\n",
       " datetime.date(2020, 2, 11),\n",
       " datetime.date(2020, 2, 12),\n",
       " datetime.date(2020, 2, 13),\n",
       " datetime.date(2020, 2, 14),\n",
       " datetime.date(2020, 2, 15),\n",
       " datetime.date(2020, 2, 16),\n",
       " datetime.date(2020, 2, 17),\n",
       " datetime.date(2020, 2, 18),\n",
       " datetime.date(2020, 2, 19),\n",
       " datetime.date(2020, 2, 20),\n",
       " datetime.date(2020, 2, 21),\n",
       " datetime.date(2020, 2, 22),\n",
       " datetime.date(2020, 2, 23),\n",
       " datetime.date(2020, 2, 24),\n",
       " datetime.date(2020, 2, 25),\n",
       " datetime.date(2020, 2, 26),\n",
       " datetime.date(2020, 2, 27),\n",
       " datetime.date(2020, 2, 28),\n",
       " datetime.date(2020, 2, 29),\n",
       " datetime.date(2020, 3, 1),\n",
       " datetime.date(2020, 3, 2),\n",
       " datetime.date(2020, 3, 3),\n",
       " datetime.date(2020, 3, 4),\n",
       " datetime.date(2020, 3, 5),\n",
       " datetime.date(2020, 3, 6),\n",
       " datetime.date(2020, 3, 7),\n",
       " datetime.date(2020, 3, 18),\n",
       " datetime.date(2020, 3, 19),\n",
       " datetime.date(2020, 3, 20),\n",
       " datetime.date(2020, 3, 21),\n",
       " datetime.date(2020, 3, 22),\n",
       " datetime.date(2020, 3, 23),\n",
       " datetime.date(2020, 3, 24),\n",
       " datetime.date(2020, 3, 25),\n",
       " datetime.date(2020, 3, 26),\n",
       " datetime.date(2020, 3, 27),\n",
       " datetime.date(2020, 3, 28),\n",
       " datetime.date(2020, 3, 29),\n",
       " datetime.date(2020, 3, 30)}"
      ]
     },
     "execution_count": 30,
     "metadata": {},
     "output_type": "execute_result"
    }
   ],
   "source": [
    "set(df.index.date)"
   ]
  },
  {
   "cell_type": "code",
   "execution_count": 31,
   "metadata": {},
   "outputs": [
    {
     "data": {
      "text/plain": [
       "(datetime.date(2020, 2, 7),)"
      ]
     },
     "execution_count": 31,
     "metadata": {},
     "output_type": "execute_result"
    }
   ],
   "source": [
    "datetime.date(2020, 1, 8),\n",
    "# datetime.date(2020, 1, 15),\n",
    "# datetime.date(2020, 1, 16),\n",
    "datetime.date(2020, 1, 23),\n",
    "datetime.date(2020, 1, 24),\n",
    "# datetime.date(2020, 1, 30),\n",
    "# datetime.date(2020, 1, 31),\n",
    "datetime.date(2020, 2, 1),\n",
    "datetime.date(2020, 2, 7),\n",
    "# datetime.date(2020, 2, 8),\n",
    "# datetime.date(2020, 2, 15),\n",
    "# datetime.date(2020, 2, 16),\n",
    "# datetime.date(2020, 2, 17),\n",
    "# datetime.date(2020, 2, 24),\n",
    "# datetime.date(2020, 2, 25),\n",
    "# datetime.date(2020, 3, 18),\n",
    "# datetime.date(2020, 3, 20),\n",
    "# datetime.date(2020, 3, 26),\n",
    "# datetime.date(2020, 3, 27),\n"
   ]
  },
  {
   "cell_type": "code",
   "execution_count": 19,
   "metadata": {},
   "outputs": [],
   "source": [
    "fn_data = dir_data + 'LC08_CU_016014_20200114_20200129_C01_V01_SRB1.tif'\n",
    "\n",
    "from PIL import Image\n",
    "im = Image.open(fn_data)\n",
    "im.show()"
   ]
  },
  {
   "cell_type": "code",
   "execution_count": 20,
   "metadata": {},
   "outputs": [],
   "source": [
    "imarray = np.array(im)"
   ]
  },
  {
   "cell_type": "code",
   "execution_count": 21,
   "metadata": {},
   "outputs": [
    {
     "data": {
      "text/plain": [
       "array([[  469,   522,   664, ..., -9999, -9999, -9999],\n",
       "       [  606,   427,   555, ..., -9999, -9999, -9999],\n",
       "       [  708,   529,   632, ..., -9999, -9999, -9999],\n",
       "       ...,\n",
       "       [ 4835,  4840,  4783, ..., -9999, -9999, -9999],\n",
       "       [ 4899,  4858,  4782, ..., -9999, -9999, -9999],\n",
       "       [ 4935,  4917,  4860, ..., -9999, -9999, -9999]], dtype=int32)"
      ]
     },
     "execution_count": 21,
     "metadata": {},
     "output_type": "execute_result"
    }
   ],
   "source": [
    "imarray"
   ]
  },
  {
   "cell_type": "code",
   "execution_count": 66,
   "metadata": {},
   "outputs": [
    {
     "data": {
      "text/plain": [
       "(-584.8977731768597, 539.2639856384162, -312.2922078692653, 312.0552681765916)"
      ]
     },
     "execution_count": 66,
     "metadata": {},
     "output_type": "execute_result"
    },
    {
     "data": {
      "image/png": "[encoded data removed]",
      "text/plain": [
       "<Figure size 864x648 with 1 Axes>"
      ]
     },
     "metadata": {
      "needs_background": "light"
     },
     "output_type": "display_data"
    }
   ],
   "source": [
    "# PCA\n",
    "plt.rcParams[\"figure.figsize\"] = (12, 9) # (w, h)\n",
    "plt.rcParams.update({'font.size': 15})\n",
    "\n",
    "x0 = np.random.normal(0, 80, 1000)\n",
    "y0 = np.random.normal(0, 20, 1000)\n",
    "\n",
    "x1 = 2*x0 + y0\n",
    "y1 = x0 - 2*y0\n",
    "\n",
    "plt.scatter(x1,y1, 2, 'k')\n",
    "\n",
    "plt.axis('equal')"
   ]
  },
  {
   "cell_type": "code",
   "execution_count": 59,
   "metadata": {},
   "outputs": [
    {
     "data": {
      "text/plain": [
       "(-780.9993556536605, 826.2922795296637, -309.4631267685153, 309.4631267685153)"
      ]
     },
     "execution_count": 59,
     "metadata": {},
     "output_type": "execute_result"
    },
    {
     "data": {
      "image/png": "[encoded data removed]",
      "text/plain": [
       "<Figure size 864x648 with 1 Axes>"
      ]
     },
     "metadata": {
      "needs_background": "light"
     },
     "output_type": "display_data"
    }
   ],
   "source": [
    "# ICA\n",
    "plt.rcParams[\"figure.figsize\"] = (12, 9) # (w, h)\n",
    "plt.rcParams.update({'font.size': 15})\n",
    "\n",
    "x0 = np.random.normal(0, 80, 1000)\n",
    "y0 = np.random.normal(0, 10, 1000)\n",
    "\n",
    "x1 = 3*x0 + y0\n",
    "y1 = x0 - 3*y0\n",
    "\n",
    "x2 = x1\n",
    "y2 = -y1\n",
    "\n",
    "plt.scatter(x1,y1, 2, 'k')\n",
    "plt.scatter(x2,y2, 2, 'k')\n",
    "\n",
    "plt.axis('equal')"
   ]
  },
  {
   "cell_type": "code",
   "execution_count": null,
   "metadata": {},
   "outputs": [],
   "source": []
  },
  {
   "cell_type": "code",
   "execution_count": null,
   "metadata": {},
   "outputs": [],
   "source": []
  }
 ],
 "metadata": {
  "celltoolbar": "Attachments",
  "kernelspec": {
   "display_name": "Python 3 (ipykernel)",
   "language": "python",
   "name": "python3"
  },
  "language_info": {
   "codemirror_mode": {
    "name": "ipython",
    "version": 3
   },
   "file_extension": ".py",
   "mimetype": "text/x-python",
   "name": "python",
   "nbconvert_exporter": "python",
   "pygments_lexer": "ipython3",
   "version": "3.9.5"
  }
 },
 "nbformat": 4,
 "nbformat_minor": 2
}
