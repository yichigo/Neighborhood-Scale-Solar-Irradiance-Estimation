{
 "cells": [
  {
   "cell_type": "code",
   "execution_count": 1,
   "id": "b1725701",
   "metadata": {},
   "outputs": [
    {
     "name": "stdout",
     "output_type": "stream",
     "text": [
      "\n",
      "## You are using the Python ARM Radar Toolkit (Py-ART), an open source\n",
      "## library for working with weather radar data. Py-ART is partly\n",
      "## supported by the U.S. Department of Energy as part of the Atmospheric\n",
      "## Radiation Measurement (ARM) Climate Research Facility, an Office of\n",
      "## Science user facility.\n",
      "##\n",
      "## If you use this software to prepare a publication, please cite:\n",
      "##\n",
      "##     JJ Helmus and SM Collis, JORS 2016, doi: 10.5334/jors.119\n",
      "\n"
     ]
    }
   ],
   "source": [
    "import pandas as pd\n",
    "import numpy as np\n",
    "import os\n",
    "import sys\n",
    "import datetime\n",
    "import time\n",
    "import math \n",
    "\n",
    "#from netCDF4 import Dataset, num2date\n",
    "import matplotlib.pyplot as plt\n",
    "\n",
    "import matplotlib.dates as mdates\n",
    "import matplotlib.colors\n",
    "import matplotlib.ticker as ticker\n",
    "\n",
    "import pyart\n",
    "\n",
    "import pytz\n",
    "# import shap\n",
    "import pickle\n",
    "import multiprocessing\n",
    "\n",
    "import cartopy.crs as ccrs\n",
    "\n",
    "from sklearn.metrics.pairwise import haversine_distances\n",
    "from math import radians\n",
    "\n",
    "RANDOM_STATE = 42\n",
    "\n",
    "import warnings\n",
    "warnings.filterwarnings(\"ignore\")"
   ]
  },
  {
   "cell_type": "code",
   "execution_count": 4,
   "id": "f141bfb4",
   "metadata": {},
   "outputs": [],
   "source": [
    "folder = 'spatial'\n",
    "node_id = '10004098'\n",
    "dir_out = '../figures/' + folder + '/'\n",
    "dir_data = '../data/'\n",
    "dir_NEXRAD = '/Volumes/Backup Plus/NEXRAD/data/'\n",
    "\n",
    "years = ['2019','2020'] ####\n",
    "months = ['1','2','3','4','5','6','7','8','9','10','11','12']\n",
    "days = np.array(range(1,31+1)).astype(str) #### np.array(range(1,31+1)).astype(str)\n",
    "days = list(days)\n",
    "\n",
    "hours = (np.array(range(0,24))).astype(str)\n",
    "hours = list(hours)\n",
    "\n",
    "bins = np.array(range(0,420+1)).astype(str)\n",
    "bins = list(bins)\n",
    "for i in range(len(bins)):\n",
    "    bins[i] = 'Spectrum[' + bins[i] + ']'\n",
    "\n",
    "wavelengths = np.array(range(360,780+1)).astype(str)\n",
    "for i in range(len(wavelengths)):\n",
    "    wavelengths[i] = wavelengths[i] + 'nm'\n",
    "wavelengths = list(wavelengths)\n",
    "\n",
    "km_max = 5\n"
   ]
  },
  {
   "cell_type": "code",
   "execution_count": 10,
   "id": "42038a97",
   "metadata": {},
   "outputs": [],
   "source": [
    "# read driving data with NEXRAD and landsat\n",
    "fn0 = dir_data + 'driving_' + node_id + '_NEXRAD_'+str(km_max)+'km_landsat.csv'\n",
    "df0 = pd.read_csv(fn0, parse_dates=True, index_col = 'UTC')"
   ]
  },
  {
   "cell_type": "code",
   "execution_count": 11,
   "id": "96f2cefb",
   "metadata": {},
   "outputs": [],
   "source": [
    "# read humidity data\n",
    "node_airmar = '001e0610c2e9'\n",
    "fn_humidity = '../Minolta/' + node_airmar + '_humidity.csv'\n",
    "df_humidity = pd.read_csv(fn_humidity, parse_dates=True, index_col = 'UTC')"
   ]
  },
  {
   "cell_type": "code",
   "execution_count": 15,
   "id": "e75bf655",
   "metadata": {},
   "outputs": [
    {
     "data": {
      "text/plain": [
       "21508"
      ]
     },
     "execution_count": 15,
     "metadata": {},
     "output_type": "execute_result"
    }
   ],
   "source": [
    "len(df0)"
   ]
  },
  {
   "cell_type": "code",
   "execution_count": 16,
   "id": "808adc6a",
   "metadata": {},
   "outputs": [
    {
     "data": {
      "text/plain": [
       "1424489"
      ]
     },
     "execution_count": 16,
     "metadata": {},
     "output_type": "execute_result"
    }
   ],
   "source": [
    "len(df_humidity)"
   ]
  },
  {
   "cell_type": "code",
   "execution_count": 30,
   "id": "321d3826",
   "metadata": {},
   "outputs": [
    {
     "data": {
      "text/plain": [
       "21508"
      ]
     },
     "execution_count": 30,
     "metadata": {},
     "output_type": "execute_result"
    }
   ],
   "source": [
    "# merge humidity\n",
    "df_merged = df0.copy()\n",
    "df_merged['relativeHumidity'] = df_humidity\n",
    "len(df_merged)"
   ]
  },
  {
   "cell_type": "code",
   "execution_count": 32,
   "id": "4e6466a7",
   "metadata": {},
   "outputs": [],
   "source": [
    "fn_merged = dir_data + 'driving_' + node_id + '_NEXRAD_'+str(km_max)+'km_landsat_humidity.csv'\n",
    "df_merged.to_csv(fn_merged)"
   ]
  },
  {
   "cell_type": "code",
   "execution_count": null,
   "id": "0b2f33e6",
   "metadata": {},
   "outputs": [],
   "source": []
  }
 ],
 "metadata": {
  "kernelspec": {
   "display_name": "Python 3 (ipykernel)",
   "language": "python",
   "name": "python3"
  },
  "language_info": {
   "codemirror_mode": {
    "name": "ipython",
    "version": 3
   },
   "file_extension": ".py",
   "mimetype": "text/x-python",
   "name": "python",
   "nbconvert_exporter": "python",
   "pygments_lexer": "ipython3",
   "version": "3.9.5"
  }
 },
 "nbformat": 4,
 "nbformat_minor": 5
}
