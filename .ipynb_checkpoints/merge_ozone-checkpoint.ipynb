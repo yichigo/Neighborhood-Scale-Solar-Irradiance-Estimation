{
 "cells": [
  {
   "cell_type": "code",
   "execution_count": 1,
   "id": "b1725701",
   "metadata": {},
   "outputs": [
    {
     "name": "stdout",
     "output_type": "stream",
     "text": [
      "\n",
      "## You are using the Python ARM Radar Toolkit (Py-ART), an open source\n",
      "## library for working with weather radar data. Py-ART is partly\n",
      "## supported by the U.S. Department of Energy as part of the Atmospheric\n",
      "## Radiation Measurement (ARM) Climate Research Facility, an Office of\n",
      "## Science user facility.\n",
      "##\n",
      "## If you use this software to prepare a publication, please cite:\n",
      "##\n",
      "##     JJ Helmus and SM Collis, JORS 2016, doi: 10.5334/jors.119\n",
      "\n"
     ]
    }
   ],
   "source": [
    "import pandas as pd\n",
    "import numpy as np\n",
    "import os\n",
    "import sys\n",
    "import datetime\n",
    "import time\n",
    "import math \n",
    "\n",
    "#from netCDF4 import Dataset, num2date\n",
    "import matplotlib.pyplot as plt\n",
    "\n",
    "import matplotlib.dates as mdates\n",
    "import matplotlib.colors\n",
    "import matplotlib.ticker as ticker\n",
    "\n",
    "import pyart\n",
    "\n",
    "import pytz\n",
    "# import shap\n",
    "import pickle\n",
    "import multiprocessing\n",
    "\n",
    "import cartopy.crs as ccrs\n",
    "\n",
    "from sklearn.metrics.pairwise import haversine_distances\n",
    "from math import radians\n",
    "\n",
    "import netCDF4\n",
    "from netCDF4 import Dataset\n",
    "\n",
    "RANDOM_STATE = 42\n",
    "\n",
    "import warnings\n",
    "warnings.filterwarnings(\"ignore\")"
   ]
  },
  {
   "cell_type": "code",
   "execution_count": 2,
   "id": "f141bfb4",
   "metadata": {},
   "outputs": [],
   "source": [
    "folder = 'spatial'\n",
    "node_id = '10004098'\n",
    "dir_out = '../figures/' + folder + '/'\n",
    "dir_data = '../data/'\n",
    "dir_NEXRAD = '/Volumes/Backup Plus/NEXRAD/data/'\n",
    "\n",
    "years = ['2019','2020'] ####\n",
    "months = ['1','2','3','4','5','6','7','8','9','10','11','12']\n",
    "days = np.array(range(1,31+1)).astype(str) #### np.array(range(1,31+1)).astype(str)\n",
    "days = list(days)\n",
    "\n",
    "hours = (np.array(range(0,24))).astype(str)\n",
    "hours = list(hours)\n",
    "\n",
    "bins = np.array(range(0,420+1)).astype(str)\n",
    "bins = list(bins)\n",
    "for i in range(len(bins)):\n",
    "    bins[i] = 'Spectrum[' + bins[i] + ']'\n",
    "\n",
    "wavelengths = np.array(range(360,780+1)).astype(str)\n",
    "for i in range(len(wavelengths)):\n",
    "    wavelengths[i] = wavelengths[i] + 'nm'\n",
    "wavelengths = list(wavelengths)\n",
    "\n",
    "km_max = 5\n"
   ]
  },
  {
   "cell_type": "code",
   "execution_count": 3,
   "id": "42038a97",
   "metadata": {},
   "outputs": [],
   "source": [
    "# read driving data with NEXRAD, landsat, and humidity\n",
    "fn0 = dir_data + 'driving_' + node_id + '_NEXRAD_'+str(km_max)+'km_landsat_humidity.csv'\n",
    "df0 = pd.read_csv(fn0, parse_dates=True, index_col = 'UTC')"
   ]
  },
  {
   "cell_type": "code",
   "execution_count": 4,
   "id": "d5070025",
   "metadata": {},
   "outputs": [
    {
     "data": {
      "text/plain": [
       "(32.9238083333333, 33.2157356666667)"
      ]
     },
     "execution_count": 4,
     "metadata": {},
     "output_type": "execute_result"
    }
   ],
   "source": [
    "# all 33\n",
    "df0['latitude'].min(),df0['latitude'].max()"
   ]
  },
  {
   "cell_type": "code",
   "execution_count": 5,
   "id": "6576a3d0",
   "metadata": {},
   "outputs": [
    {
     "data": {
      "text/plain": [
       "(-97.161448, -96.5948276666667)"
      ]
     },
     "execution_count": 5,
     "metadata": {},
     "output_type": "execute_result"
    }
   ],
   "source": [
    "# all -97, which is 360-97 = 263\n",
    "df0['longitude'].min(),df0['longitude'].max()"
   ]
  },
  {
   "cell_type": "code",
   "execution_count": 6,
   "id": "8d4b245f",
   "metadata": {},
   "outputs": [],
   "source": [
    "dir_ozone = '../data/Ozone/'\n",
    "dir_figure = '../figures/ozone/'\n",
    "\n",
    "filename_prev = 'OMI-Aura_L3-OMDOAO3e_'\n",
    "filenames = [filename for filename in os.listdir(dir_ozone) if filename_prev in filename]\n",
    "filenames = sorted(filenames)"
   ]
  },
  {
   "cell_type": "code",
   "execution_count": 39,
   "id": "dbbc785c",
   "metadata": {},
   "outputs": [
    {
     "name": "stdout",
     "output_type": "stream",
     "text": [
      "2019 12 01\n",
      "2019 12 02\n",
      "2019 12 03\n",
      "2019 12 04\n",
      "2019 12 05\n",
      "2019 12 06\n",
      "2019 12 07\n",
      "2019 12 08\n",
      "2019 12 09\n",
      "2019 12 10\n",
      "2019 12 11\n",
      "2019 12 12\n",
      "2019 12 13\n",
      "2019 12 14\n",
      "2019 12 15\n",
      "2019 12 16\n",
      "2019 12 17\n",
      "2019 12 18\n",
      "2019 12 19\n",
      "2019 12 20\n",
      "2019 12 21\n",
      "2019 12 22\n",
      "2019 12 23\n",
      "2019 12 24\n",
      "2019 12 25\n",
      "2019 12 26\n",
      "2019 12 27\n",
      "2019 12 28\n",
      "2019 12 29\n",
      "2019 12 30\n",
      "2019 12 31\n",
      "2020 01 01\n",
      "2020 01 02\n",
      "2020 01 03\n",
      "2020 01 04\n",
      "2020 01 05\n",
      "2020 01 06\n",
      "2020 01 07\n",
      "2020 01 08\n",
      "2020 01 09\n",
      "2020 01 10\n",
      "2020 01 11\n",
      "2020 01 12\n",
      "2020 01 13\n",
      "2020 01 14\n",
      "2020 01 15\n",
      "2020 01 16\n",
      "2020 01 17\n",
      "2020 01 18\n",
      "2020 01 19\n",
      "2020 01 20\n",
      "2020 01 21\n",
      "2020 01 22\n",
      "2020 01 23\n",
      "2020 01 24\n",
      "2020 01 25\n",
      "2020 01 26\n",
      "2020 01 27\n",
      "2020 01 28\n",
      "2020 01 29\n",
      "2020 01 30\n",
      "2020 01 31\n",
      "2020 02 01\n",
      "2020 02 02\n",
      "2020 02 03\n",
      "2020 02 04\n",
      "2020 02 05\n",
      "Error on reading file of  2020 02 05\n",
      "2020 02 06\n",
      "2020 02 07\n",
      "2020 02 08\n",
      "2020 02 09\n",
      "2020 02 10\n",
      "2020 02 11\n",
      "2020 02 12\n",
      "2020 02 13\n",
      "2020 02 14\n",
      "2020 02 15\n",
      "2020 02 16\n",
      "2020 02 17\n",
      "2020 02 18\n",
      "2020 02 19\n",
      "2020 02 20\n",
      "2020 02 21\n",
      "2020 02 22\n",
      "2020 02 23\n",
      "2020 02 24\n",
      "2020 02 25\n",
      "2020 02 26\n",
      "2020 02 27\n",
      "2020 02 28\n",
      "2020 02 29\n",
      "2020 03 01\n",
      "2020 03 02\n",
      "2020 03 03\n",
      "2020 03 04\n",
      "2020 03 05\n",
      "2020 03 06\n",
      "2020 03 07\n",
      "2020 03 08\n",
      "2020 03 09\n",
      "2020 03 10\n",
      "2020 03 11\n",
      "2020 03 12\n",
      "2020 03 13\n",
      "2020 03 14\n",
      "2020 03 15\n",
      "2020 03 16\n",
      "2020 03 17\n",
      "2020 03 18\n",
      "2020 03 19\n",
      "2020 03 20\n",
      "2020 03 21\n",
      "2020 03 22\n",
      "2020 03 23\n",
      "2020 03 24\n",
      "2020 03 25\n",
      "2020 03 26\n",
      "2020 03 27\n",
      "2020 03 28\n",
      "2020 03 29\n",
      "2020 03 30\n",
      "2020 03 31\n",
      "2020 04 01\n",
      "2020 04 02\n",
      "2020 04 03\n",
      "2020 04 04\n",
      "2020 04 05\n",
      "2020 04 06\n",
      "2020 04 07\n",
      "2020 04 08\n",
      "2020 04 09\n",
      "2020 04 10\n",
      "2020 04 11\n",
      "2020 04 12\n",
      "2020 04 13\n",
      "2020 04 14\n",
      "2020 04 15\n",
      "2020 04 16\n",
      "2020 04 17\n",
      "2020 04 18\n",
      "2020 04 19\n",
      "2020 04 20\n",
      "2020 04 21\n",
      "2020 04 22\n",
      "2020 04 23\n",
      "2020 04 24\n",
      "2020 04 25\n",
      "2020 04 26\n",
      "2020 04 27\n",
      "2020 04 28\n",
      "2020 04 29\n",
      "2020 04 30\n",
      "2020 05 01\n",
      "2020 05 02\n",
      "2020 05 03\n",
      "2020 05 04\n",
      "2020 05 05\n",
      "2020 05 06\n",
      "2020 05 07\n",
      "2020 05 08\n",
      "2020 05 09\n",
      "2020 05 10\n",
      "2020 05 11\n",
      "2020 05 12\n",
      "2020 05 13\n",
      "2020 05 14\n",
      "2020 05 15\n",
      "2020 05 16\n",
      "2020 05 17\n",
      "2020 05 18\n",
      "2020 05 19\n",
      "2020 05 20\n",
      "2020 05 21\n",
      "2020 05 22\n",
      "2020 05 23\n",
      "2020 05 24\n",
      "2020 05 25\n",
      "2020 05 26\n",
      "2020 05 27\n",
      "2020 05 28\n",
      "2020 05 29\n",
      "2020 05 30\n",
      "2020 05 31\n",
      "2020 06 01\n"
     ]
    }
   ],
   "source": [
    "i_lat = 57\n",
    "i_lon = 263\n",
    "\n",
    "date_x = []\n",
    "ozone_y = []\n",
    "for i, filename in enumerate(filenames):\n",
    "    date = filename[21:30]\n",
    "    year = date[:4]\n",
    "    month = date[-4:-2]\n",
    "    day = date[-2:]\n",
    "    print(year, month, day)\n",
    "    \n",
    "    date_i = datetime.date(int(year), int(month), int(day))\n",
    "#     iwant = (df0.index.date == date_i)\n",
    "        \n",
    "    try:\n",
    "        f = Dataset(dir_ozone + filename)\n",
    "        \n",
    "        ColumnAmountO3 = f.variables['ColumnAmountO3'][:][i_lat,i_lon]\n",
    "        \n",
    "        date_x.append(date_i)\n",
    "        if type(ColumnAmountO3) == np.float32:\n",
    "            ozone_y.append(ColumnAmountO3)\n",
    "        else:\n",
    "            ozone_y.append(np.nan)\n",
    "        \n",
    "#         df0.loc[iwant, 'ColumnAmountO3'] = ColumnAmountO3\n",
    "    except:\n",
    "        print('Error on reading file of ', year, month, day)"
   ]
  },
  {
   "cell_type": "code",
   "execution_count": 40,
   "id": "7460067c",
   "metadata": {},
   "outputs": [
    {
     "data": {
      "text/plain": [
       "(33.0, -97.0)"
      ]
     },
     "execution_count": 40,
     "metadata": {},
     "output_type": "execute_result"
    }
   ],
   "source": [
    "f.variables['lat'][:][i_lat], f.variables['lon'][:][i_lon]-360"
   ]
  },
  {
   "cell_type": "code",
   "execution_count": 41,
   "id": "74a5364a",
   "metadata": {},
   "outputs": [
    {
     "data": {
      "text/plain": [
       "<matplotlib.collections.PathCollection at 0x7fa3e5f540d0>"
      ]
     },
     "execution_count": 41,
     "metadata": {},
     "output_type": "execute_result"
    },
    {
     "data": {
      "image/png": "[encoded data removed]",
      "text/plain": [
       "<Figure size 432x288 with 1 Axes>"
      ]
     },
     "metadata": {
      "needs_background": "light"
     },
     "output_type": "display_data"
    }
   ],
   "source": [
    "plt.scatter(date_x, ozone_y)"
   ]
  },
  {
   "cell_type": "code",
   "execution_count": 42,
   "id": "ad47dae1",
   "metadata": {},
   "outputs": [
    {
     "data": {
      "text/plain": [
       "<matplotlib.collections.PathCollection at 0x7fa3e62d8730>"
      ]
     },
     "execution_count": 42,
     "metadata": {},
     "output_type": "execute_result"
    },
    {
     "data": {
      "image/png": "[encoded data removed]",
      "text/plain": [
       "<Figure size 432x288 with 1 Axes>"
      ]
     },
     "metadata": {
      "needs_background": "light"
     },
     "output_type": "display_data"
    }
   ],
   "source": [
    "temp = pd.DataFrame(columns = ['date', 'ColumnAmountO3'])\n",
    "temp['date'] = date_x\n",
    "temp['ColumnAmountO3'] = ozone_y\n",
    "temp['ColumnAmountO3'].interpolate(method='linear', inplace = True)\n",
    "\n",
    "date_x = temp['date'].values\n",
    "ozone_y = temp['ColumnAmountO3'].values\n",
    "plt.scatter(date_x, ozone_y)"
   ]
  },
  {
   "cell_type": "code",
   "execution_count": 56,
   "id": "390369bf",
   "metadata": {},
   "outputs": [
    {
     "data": {
      "text/plain": [
       "<matplotlib.collections.PathCollection at 0x7fa3e6324610>"
      ]
     },
     "execution_count": 56,
     "metadata": {},
     "output_type": "execute_result"
    },
    {
     "data": {
      "image/png": "[encoded data removed]",
      "text/plain": [
       "<Figure size 432x288 with 1 Axes>"
      ]
     },
     "metadata": {
      "needs_background": "light"
     },
     "output_type": "display_data"
    }
   ],
   "source": [
    "plt.scatter(df0['ColumnAmountO3'], df0['Illuminance'])"
   ]
  },
  {
   "cell_type": "code",
   "execution_count": 46,
   "id": "ff521e11",
   "metadata": {},
   "outputs": [],
   "source": [
    "date2ozone = {}\n",
    "for i in range(len(date_x)):\n",
    "    date2ozone[date_x[i]] = ozone_y[i]"
   ]
  },
  {
   "cell_type": "code",
   "execution_count": 50,
   "id": "9f347e5a",
   "metadata": {},
   "outputs": [],
   "source": [
    "df0['ColumnAmountO3'] = np.nan\n",
    "dates = np.unique(df0.index.date)\n",
    "for date in dates:\n",
    "    iwant = (df0.index.date == date)\n",
    "    df0.loc[iwant, 'ColumnAmountO3'] = date2ozone[date]"
   ]
  },
  {
   "cell_type": "code",
   "execution_count": 55,
   "id": "4e6466a7",
   "metadata": {},
   "outputs": [],
   "source": [
    "fn_merged = dir_data + 'driving_' + node_id + '_NEXRAD_'+str(km_max)+'km_landsat_humidity_O3.csv'\n",
    "df0.to_csv(fn_merged)"
   ]
  },
  {
   "cell_type": "code",
   "execution_count": null,
   "id": "9b8fd57c",
   "metadata": {},
   "outputs": [],
   "source": []
  }
 ],
 "metadata": {
  "kernelspec": {
   "display_name": "Python 3 (ipykernel)",
   "language": "python",
   "name": "python3"
  },
  "language_info": {
   "codemirror_mode": {
    "name": "ipython",
    "version": 3
   },
   "file_extension": ".py",
   "mimetype": "text/x-python",
   "name": "python",
   "nbconvert_exporter": "python",
   "pygments_lexer": "ipython3",
   "version": "3.9.5"
  }
 },
 "nbformat": 4,
 "nbformat_minor": 5
}
